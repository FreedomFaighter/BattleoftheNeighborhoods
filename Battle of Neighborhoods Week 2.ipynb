{
 "cells": [
  {
   "cell_type": "code",
   "execution_count": null,
   "metadata": {},
   "outputs": [],
   "source": [
    "pip install folium"
   ]
  },
  {
   "cell_type": "code",
   "execution_count": null,
   "metadata": {},
   "outputs": [],
   "source": [
    "import numpy as np # library to handle data in a vectorized manner\n",
    "\n",
    "import pandas as pd # library for data analsysis\n",
    "pd.set_option('display.max_columns', None)\n",
    "pd.set_option('display.max_rows', None)\n",
    "import requests # library to handle requests\n",
    "from pandas.io.json import json_normalize # tranform JSON file into a pandas dataframe\n",
    "import folium # map rendering library\n",
    "\n",
    "print('Libraries imported.')"
   ]
  },
  {
   "cell_type": "code",
   "execution_count": null,
   "metadata": {},
   "outputs": [],
   "source": [
    "CLIENT_ID = 'A5A45OPL23STGM5RNJA2CGQCUWLWQ5FCAKYHBP0PEC55WNAK' # your Foursquare ID\n",
    "CLIENT_SECRET = '' # your Foursquare Secret\n",
    "VERSION = '20180605' # Foursquare API version\n",
    "\n",
    "print('Your credentails:')\n",
    "print('CLIENT_ID: ' + CLIENT_ID)"
   ]
  },
  {
   "cell_type": "code",
   "execution_count": 4,
   "metadata": {},
   "outputs": [],
   "source": [
    "# type your answer here\n",
    "LIMIT = 500 # Maximum is 100\n",
    "cities = [\"New York, NY\", 'Chicago, IL', 'San Francisco, CA', 'Jersey City, NJ', 'Boston, MA', 'Austin, TX']\n",
    "results = {}\n",
    "for city in cities:\n",
    "    url = 'https://api.foursquare.com/v2/venues/explore?&client_id={}&client_secret={}&v={}&near={}&limit={}&categoryId={}'.format(\n",
    "        CLIENT_ID, \n",
    "        CLIENT_SECRET, \n",
    "        VERSION, \n",
    "        city,\n",
    "        LIMIT,\n",
    "        \"4bf58dd8d48988d142941735\") # ASIAN RESTAURANT PLACE CATEGORY ID\n",
    "    results[city] = requests.get(url).json()"
   ]
  },
  {
   "cell_type": "code",
   "execution_count": null,
   "metadata": {},
   "outputs": [],
   "source": [
    "df_venues={}\n",
    "for city in cities:\n",
    "    venues = json_normalize(results[city]['response']['groups'][0]['items'])\n",
    "    df_venues[city] = venues[['venue.name', 'venue.location.address', 'venue.location.lat', 'venue.location.lng']]\n",
    "    df_venues[city].columns = ['Name', 'Address', 'Lat', 'Lng']\n",
    "def displayFirstNCitiesAsMap(n):\n",
    "    for city in cities[:n]:\n",
    "        maps[city]"
   ]
  },
  {
   "cell_type": "code",
   "execution_count": null,
   "metadata": {},
   "outputs": [],
   "source": [
    "maps = {}\n",
    "for city in cities:\n",
    "    city_lat = np.mean([results[city]['response']['geocode']['geometry']['bounds']['ne']['lat'],\n",
    "                        results[city]['response']['geocode']['geometry']['bounds']['sw']['lat']])\n",
    "    city_lng = np.mean([results[city]['response']['geocode']['geometry']['bounds']['ne']['lng'],\n",
    "                        results[city]['response']['geocode']['geometry']['bounds']['sw']['lng']])\n",
    "    maps[city] = folium.Map(location=[city_lat, city_lng], zoom_start=11)\n",
    "\n",
    "    # add markers to map\n",
    "    for lat, lng, label in zip(df_venues[city]['Lat'], df_venues[city]['Lng'], df_venues[city]['Name']):\n",
    "        label = folium.Popup(label, parse_html=True)\n",
    "        folium.CircleMarker(\n",
    "            [lat, lng],\n",
    "            radius=5,\n",
    "            popup=label,\n",
    "            color='purple',\n",
    "            fill=True,\n",
    "            fill_color='#3186cc',\n",
    "            fill_opacity=0.7,\n",
    "            parse_html=False).add_to(maps[city])  \n",
    "    print(f\"Total number of Asian restaurants in {city} = \", results[city]['response']['totalResults'])\n",
    "    print(\"Showing Top 100\")"
   ]
  },
  {
   "cell_type": "code",
   "execution_count": null,
   "metadata": {},
   "outputs": [],
   "source": [
    "displayFirstNCitiesAsMap(len(cities))"
   ]
  },
  {
   "cell_type": "code",
   "execution_count": null,
   "metadata": {},
   "outputs": [],
   "source": [
    "maps = {}\n",
    "for city in cities:\n",
    "    city_lat = np.mean([results[city]['response']['geocode']['geometry']['bounds']['ne']['lat'],\n",
    "                        results[city]['response']['geocode']['geometry']['bounds']['sw']['lat']])\n",
    "    city_lng = np.mean([results[city]['response']['geocode']['geometry']['bounds']['ne']['lng'],\n",
    "                        results[city]['response']['geocode']['geometry']['bounds']['sw']['lng']])\n",
    "    maps[city] = folium.Map(location=[city_lat, city_lng], zoom_start=11)\n",
    "    venues_mean_coor = [df_venues[city]['Lat'].mean(), df_venues[city]['Lng'].mean()] \n",
    "    # add markers to map\n",
    "    for lat, lng, label in zip(df_venues[city]['Lat'], df_venues[city]['Lng'], df_venues[city]['Name']):\n",
    "        label = folium.Popup(label, parse_html=True)\n",
    "        folium.CircleMarker(\n",
    "            [lat, lng],\n",
    "            radius=5,\n",
    "            popup=label,\n",
    "            color='blue',\n",
    "            fill=True,\n",
    "            fill_color='#3186cc',\n",
    "            fill_opacity=0.7,\n",
    "            parse_html=False).add_to(maps[city])\n",
    "        folium.PolyLine([venues_mean_coor, [lat, lng]], color=\"green\", weight=1.5, opacity=0.5).add_to(maps[city])\n",
    "    \n",
    "    label = folium.Popup(\"Mean Co-ordinate\", parse_html=True)\n",
    "    folium.CircleMarker(\n",
    "        venues_mean_coor,\n",
    "        radius=10,\n",
    "        popup=label,\n",
    "        color='green',\n",
    "        fill=True,\n",
    "        fill_color='#3186cc',\n",
    "        fill_opacity=0.7,\n",
    "        parse_html=False).add_to(maps[city])\n",
    "\n",
    "    print(city)\n",
    "    print(\"Mean Distance from Mean coordinates\")\n",
    "    print(np.mean(np.apply_along_axis(lambda x: np.linalg.norm(x - venues_mean_coor),1,df_venues[city][['Lat','Lng']].values)))"
   ]
  },
  {
   "cell_type": "code",
   "execution_count": null,
   "metadata": {},
   "outputs": [],
   "source": [
    "displayFirstNCitiesAsMap(len(cities))"
   ]
  }
 ],
 "metadata": {
  "kernelspec": {
   "display_name": "Python 3.7",
   "language": "python",
   "name": "python3"
  },
  "language_info": {
   "codemirror_mode": {
    "name": "ipython",
    "version": 3
   },
   "file_extension": ".py",
   "mimetype": "text/x-python",
   "name": "python",
   "nbconvert_exporter": "python",
   "pygments_lexer": "ipython3",
   "version": "3.7.10"
  }
 },
 "nbformat": 4,
 "nbformat_minor": 1
}
